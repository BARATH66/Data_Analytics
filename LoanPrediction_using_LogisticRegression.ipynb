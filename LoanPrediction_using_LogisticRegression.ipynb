{
 "cells": [
  {
   "cell_type": "code",
   "execution_count": 31,
   "metadata": {},
   "outputs": [],
   "source": [
    "import numpy as np\n",
    "import math\n",
    "import pandas as pd\n",
    "import matplotlib.pyplot as plt\n",
    "import seaborn as sb\n",
    "from sklearn.linear_model import LogisticRegression\n",
    "from sklearn.model_selection import cross_val_score\n",
    "from sklearn.preprocessing import LabelEncoder, StandardScaler\n",
    "from sklearn.metrics import confusion_matrix, accuracy_score\n"
   ]
  },
  {
   "cell_type": "code",
   "execution_count": 32,
   "metadata": {},
   "outputs": [],
   "source": [
    "Train_Dataset = pd.read_csv(\"/home/barath/Documents/DS/Python3/Logistic/Loanpredtiction/train_ctrUa4K.csv\")\n",
    "Test_Dataset = pd.read_csv(\"/home/barath/Documents/DS/Python3/Logistic/Loanpredtiction/test_lAUu6dG.csv\")\n",
    "\n",
    "del Train_Dataset['Loan_ID']\n",
    "del Train_Dataset['Loan_Status']\n",
    "del Test_Dataset['Loan_ID']"
   ]
  },
  {
   "cell_type": "code",
   "execution_count": 33,
   "metadata": {},
   "outputs": [],
   "source": [
    "Dataset = pd.concat([Train_Dataset, Test_Dataset], axis=0,ignore_index=True)"
   ]
  },
  {
   "cell_type": "code",
   "execution_count": 34,
   "metadata": {},
   "outputs": [],
   "source": [
    "NullFree_Dataset = pd.DataFrame()\n",
    "def fill_na(dataset):\n",
    "    for col in dataset.columns:\n",
    "        if dataset[col].isnull().sum() == 0:\n",
    "            NullFree_Dataset[dataset[col].name]= dataset[col]\n",
    "        elif dataset[col].value_counts().count() <= 4:\n",
    "            NullFree_Dataset[dataset[col].name] = dataset[col].fillna(dataset[col].value_counts().index[0])\n",
    "        else:\n",
    "            NullFree_Dataset[dataset[col].name] = dataset[col].fillna(np.floor(dataset[col].value_counts().mean()))\n",
    "    return NullFree_Dataset\n",
    "Dataset = fill_na(Dataset)\n",
    "#Dataset"
   ]
  },
  {
   "cell_type": "code",
   "execution_count": 35,
   "metadata": {},
   "outputs": [
    {
     "name": "stdout",
     "output_type": "stream",
     "text": [
      "New_Dataset: (981, 7)   Num_vars: (981, 4)\n"
     ]
    }
   ],
   "source": [
    "cat_vars = pd.DataFrame()\n",
    "num_vars = pd.DataFrame()\n",
    "fac_data = pd.DataFrame()\n",
    "le = LabelEncoder()\n",
    "def splitcatvars(dataset):\n",
    "    for col in dataset.columns:\n",
    "        if dataset[col].value_counts().count()  <=4:\n",
    "            cat_vars[dataset[col].name] = dataset[col]\n",
    "        else:\n",
    "            num_vars[dataset[col].name] = dataset[col]\n",
    "   \n",
    "    return cat_vars, num_vars\n",
    "cat_vars, num_vars = splitcatvars(Dataset)\n",
    "\n",
    "def tonumeric(dataset):\n",
    "    for col in dataset.columns:\n",
    "        fac_data[dataset[col].name] = le.fit_transform(dataset[col])\n",
    "    return fac_data\n",
    "New_Dataset = tonumeric(cat_vars)\n",
    "print(\"New_Dataset:\",New_Dataset.shape,' ',\"Num_vars:\", num_vars.shape)"
   ]
  },
  {
   "cell_type": "code",
   "execution_count": 36,
   "metadata": {},
   "outputs": [],
   "source": [
    "Dataframe = pd.concat([New_Dataset, num_vars],axis=1)"
   ]
  },
  {
   "cell_type": "code",
   "execution_count": 37,
   "metadata": {},
   "outputs": [
    {
     "name": "stdout",
     "output_type": "stream",
     "text": [
      "Trainset: (614, 11)   Testset: (367, 11)\n"
     ]
    }
   ],
   "source": [
    "Trainset = Dataframe.iloc[:614,:]\n",
    "Testset = Dataframe.iloc[614:,:]\n",
    "print(\"Trainset:\",Trainset.shape,' ',\"Testset:\", Testset.shape)"
   ]
  },
  {
   "cell_type": "code",
   "execution_count": 38,
   "metadata": {},
   "outputs": [],
   "source": [
    "Train_Set = pd.read_csv(\"/home/barath/Documents/DS/Python3/Logistic/Loanpredtiction/train_ctrUa4K.csv\")\n",
    "Target = Train_Set['Loan_Status'].map(lambda i: 1 if i=='Y' else 0)\n",
    "#Target"
   ]
  },
  {
   "cell_type": "code",
   "execution_count": 39,
   "metadata": {},
   "outputs": [],
   "source": [
    "lorm = LogisticRegression()"
   ]
  },
  {
   "cell_type": "code",
   "execution_count": 40,
   "metadata": {},
   "outputs": [],
   "source": [
    "sacled_data = StandardScaler().fit_transform(Trainset)\n",
    "log_clf = lorm.fit(sacled_data, Target)"
   ]
  },
  {
   "cell_type": "code",
   "execution_count": 41,
   "metadata": {},
   "outputs": [],
   "source": [
    "Train_pred = log_clf.predict(sacled_data)"
   ]
  },
  {
   "cell_type": "code",
   "execution_count": 42,
   "metadata": {},
   "outputs": [
    {
     "name": "stdout",
     "output_type": "stream",
     "text": [
      "Confusion_Matrix: [[ 84 108]\n",
      " [  8 414]] \n",
      " Accuracy_Score: 0.8110749185667753\n"
     ]
    }
   ],
   "source": [
    "con_mat = confusion_matrix(Target, Train_pred)\n",
    "acc_scr = accuracy_score(Target, Train_pred)\n",
    "print(\"Confusion_Matrix:\",con_mat,'\\n',\"Accuracy_Score:\",acc_scr)"
   ]
  },
  {
   "cell_type": "code",
   "execution_count": 43,
   "metadata": {},
   "outputs": [
    {
     "name": "stdout",
     "output_type": "stream",
     "text": [
      "Accuracy_Score: 0.9945205479452055\n"
     ]
    }
   ],
   "source": [
    "scaled_data1 = StandardScaler().fit_transform(Testset)\n",
    "Test_pred = log_clf.predict(scaled_data1)\n",
    "acc_scr1 = cross_val_score(log_clf,scaled_data1, Test_pred)\n",
    "print(\"Accuracy_Score:\",acc_scr1.mean())"
   ]
  },
  {
   "cell_type": "code",
   "execution_count": 44,
   "metadata": {},
   "outputs": [],
   "source": [
    "Test_ds = pd.read_csv(\"/home/barath/Documents/DS/Python3/Logistic/Loanpredtiction/test_lAUu6dG.csv\")\n",
    "outcome = pd.DataFrame()\n",
    "outcome['Loan_ID'] = Test_ds['Loan_ID']\n",
    "\n",
    "for i in Test_pred:\n",
    "    outcome['Loan_Status']=np.vectorize(lambda s: 'Y' if s==1 else 'N')(Test_pred) \n",
    "outcome[['Loan_ID','Loan_Status']].to_csv('/home/barath/Documents/DS/Python3/Logistic/Loanpredtiction/outcome.csv',index=False)"
   ]
  },
  {
   "cell_type": "code",
   "execution_count": null,
   "metadata": {},
   "outputs": [],
   "source": []
  }
 ],
 "metadata": {
  "kernelspec": {
   "display_name": "Python 3",
   "language": "python",
   "name": "python3"
  },
  "language_info": {
   "codemirror_mode": {
    "name": "ipython",
    "version": 3
   },
   "file_extension": ".py",
   "mimetype": "text/x-python",
   "name": "python",
   "nbconvert_exporter": "python",
   "pygments_lexer": "ipython3",
   "version": "3.8.5"
  }
 },
 "nbformat": 4,
 "nbformat_minor": 4
}
